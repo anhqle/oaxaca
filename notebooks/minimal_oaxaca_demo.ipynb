{
  "cells": [
    {
      "cell_type": "markdown",
      "metadata": {},
      "source": [
        "# Minimal Oaxaca Demo\n",
        "\n",
        "This notebook demonstrates a minimal example of running the Oaxaca-Blinder decomposition and printing the results."
      ]
    },
    {
      "cell_type": "code",
      "execution_count": 1,
      "metadata": {},
      "outputs": [],
      "source": [
        "%load_ext autoreload\n",
        "%autoreload 2\n",
        "import pandas as pd\n",
        "\n",
        "from oaxaca import Oaxaca"
      ]
    },
    {
      "cell_type": "code",
      "execution_count": 2,
      "metadata": {},
      "outputs": [
        {
          "data": {
            "text/html": [
              "<div>\n",
              "<style scoped>\n",
              "    .dataframe tbody tr th:only-of-type {\n",
              "        vertical-align: middle;\n",
              "    }\n",
              "\n",
              "    .dataframe tbody tr th {\n",
              "        vertical-align: top;\n",
              "    }\n",
              "\n",
              "    .dataframe thead th {\n",
              "        text-align: right;\n",
              "    }\n",
              "</style>\n",
              "<table border=\"1\" class=\"dataframe\">\n",
              "  <thead>\n",
              "    <tr style=\"text-align: right;\">\n",
              "      <th></th>\n",
              "      <th>age</th>\n",
              "      <th>female</th>\n",
              "      <th>foreign_born</th>\n",
              "      <th>LTHS</th>\n",
              "      <th>high_school</th>\n",
              "      <th>some_college</th>\n",
              "      <th>college</th>\n",
              "      <th>advanced_degree</th>\n",
              "      <th>education_level</th>\n",
              "      <th>ln_real_wage</th>\n",
              "    </tr>\n",
              "  </thead>\n",
              "  <tbody>\n",
              "    <tr>\n",
              "      <th>0</th>\n",
              "      <td>52</td>\n",
              "      <td>0</td>\n",
              "      <td>1</td>\n",
              "      <td>0</td>\n",
              "      <td>1</td>\n",
              "      <td>0</td>\n",
              "      <td>0</td>\n",
              "      <td>0</td>\n",
              "      <td>high_school</td>\n",
              "      <td>2.140066</td>\n",
              "    </tr>\n",
              "    <tr>\n",
              "      <th>1</th>\n",
              "      <td>46</td>\n",
              "      <td>1</td>\n",
              "      <td>1</td>\n",
              "      <td>0</td>\n",
              "      <td>1</td>\n",
              "      <td>0</td>\n",
              "      <td>0</td>\n",
              "      <td>0</td>\n",
              "      <td>high_school</td>\n",
              "      <td>NaN</td>\n",
              "    </tr>\n",
              "    <tr>\n",
              "      <th>2</th>\n",
              "      <td>31</td>\n",
              "      <td>1</td>\n",
              "      <td>1</td>\n",
              "      <td>0</td>\n",
              "      <td>1</td>\n",
              "      <td>0</td>\n",
              "      <td>0</td>\n",
              "      <td>0</td>\n",
              "      <td>high_school</td>\n",
              "      <td>2.499795</td>\n",
              "    </tr>\n",
              "    <tr>\n",
              "      <th>3</th>\n",
              "      <td>35</td>\n",
              "      <td>0</td>\n",
              "      <td>1</td>\n",
              "      <td>0</td>\n",
              "      <td>1</td>\n",
              "      <td>0</td>\n",
              "      <td>0</td>\n",
              "      <td>0</td>\n",
              "      <td>high_school</td>\n",
              "      <td>2.708050</td>\n",
              "    </tr>\n",
              "    <tr>\n",
              "      <th>4</th>\n",
              "      <td>19</td>\n",
              "      <td>0</td>\n",
              "      <td>0</td>\n",
              "      <td>0</td>\n",
              "      <td>1</td>\n",
              "      <td>0</td>\n",
              "      <td>0</td>\n",
              "      <td>0</td>\n",
              "      <td>high_school</td>\n",
              "      <td>2.079442</td>\n",
              "    </tr>\n",
              "  </tbody>\n",
              "</table>\n",
              "</div>"
            ],
            "text/plain": [
              "   age  female  foreign_born  LTHS  high_school  some_college  college  \\\n",
              "0   52       0             1     0            1             0        0   \n",
              "1   46       1             1     0            1             0        0   \n",
              "2   31       1             1     0            1             0        0   \n",
              "3   35       0             1     0            1             0        0   \n",
              "4   19       0             0     0            1             0        0   \n",
              "\n",
              "   advanced_degree education_level  ln_real_wage  \n",
              "0                0     high_school      2.140066  \n",
              "1                0     high_school           NaN  \n",
              "2                0     high_school      2.499795  \n",
              "3                0     high_school      2.708050  \n",
              "4                0     high_school      2.079442  "
            ]
          },
          "execution_count": 2,
          "metadata": {},
          "output_type": "execute_result"
        }
      ],
      "source": [
        "# Load sample data\n",
        "df = pd.read_csv(\"sample_data.csv\")\n",
        "df.head()"
      ]
    },
    {
      "cell_type": "code",
      "execution_count": 3,
      "metadata": {},
      "outputs": [
        {
          "name": "stdout",
          "output_type": "stream",
          "text": [
            "Model fitted successfully!\n",
            "Groups: [0, 1]\n"
          ]
        }
      ],
      "source": [
        "# Initialize and fit the Oaxaca model\n",
        "oaxaca_model = Oaxaca()\n",
        "\n",
        "# Fit the model using a simple formula\n",
        "results = oaxaca_model.fit(\n",
        "    formula=\"exp(ln_real_wage) ~ -1 + age + female + C(education_level)\", data=df, group_variable=\"foreign_born\"\n",
        ")\n",
        "\n",
        "print(\"Model fitted successfully!\")\n",
        "print(f\"Groups: {results.groups_}\")"
      ]
    },
    {
      "cell_type": "code",
      "execution_count": 5,
      "metadata": {},
      "outputs": [],
      "source": [
        "# Run two-fold decomposition\n",
        "twofold_decomposition = results.two_fold(weights={0: 1.0, 1: 0.0})"
      ]
    },
    {
      "cell_type": "code",
      "execution_count": 10,
      "metadata": {},
      "outputs": [
        {
          "data": {
            "text/html": [
              "\n",
              "        <div style=\"font-family: Arial, sans-serif; max-width: 1000px;\">\n",
              "            <h3 style=\"color: #2c3e50; margin-bottom: 15px;\">Oaxaca-Blinder Decomposition Results</h3>\n",
              "\n",
              "            <div style=\"margin-bottom: 15px;\">\n",
              "                <p style=\"margin: 3px 0;\"><strong>Group Variable:</strong> foreign_born | <strong>Groups:</strong> 0 vs 1 | <strong>Direction:</strong> 0 - 1 | <strong>Weights:</strong> {0: 1.0, 1: 0.0}</p>\n",
              "                <p style=\"margin: 3px 0;\"><strong>Total Difference:</strong> 3.0156 | <strong>Mix-shift:</strong> 0.1822 (6.0%) | <strong>Within-slice:</strong> 2.8333 (94.0%)</p>\n",
              "            </div>\n",
              "\n",
              "            \n",
              "\n",
              "            <h4 style=\"color: #2c3e50; margin-top: 20px; margin-bottom: 10px;\">Detailed Variable Contributions</h4>\n",
              "            <table style=\"border-collapse: collapse; width: 100%; font-size: 0.9em;\"><thead><tr style=\"background-color: #f0f0f0;\"><th style=\"border: 1px solid #ddd; padding: 8px; text-align: left; width: 35%;\">Variable</th><th style=\"border: 1px solid #ddd; padding: 8px; text-align: right; \">Mix-shift</th><th style=\"border: 1px solid #ddd; padding: 8px; text-align: right; \">Mix %</th><th style=\"border: 1px solid #ddd; padding: 8px; text-align: right; \">Within-slice</th><th style=\"border: 1px solid #ddd; padding: 8px; text-align: right; \">Within %</th><th style=\"border: 1px solid #ddd; padding: 8px; text-align: right; \">Total</th><th style=\"border: 1px solid #ddd; padding: 8px; text-align: right; \">Tot %</th></tr></thead><tbody><tr style=\"font-weight: bold; background-color: #f8f9fa;\"><td style=\"border: 1px solid #ddd; padding: 8px;\">age</td><td style=\"border: 1px solid #ddd; padding: 8px; text-align: right;\">-1.7491</td><td style=\"border: 1px solid #ddd; padding: 8px; text-align: right;\">-58.0%</td><td style=\"border: 1px solid #ddd; padding: 8px; text-align: right;\">7.5585</td><td style=\"border: 1px solid #ddd; padding: 8px; text-align: right;\">250.6%</td><td style=\"border: 1px solid #ddd; padding: 8px; text-align: right;\">5.8094</td><td style=\"border: 1px solid #ddd; padding: 8px; text-align: right;\">192.6%</td></tr><tr style=\"font-weight: bold; background-color: #f8f9fa;\"><td style=\"border: 1px solid #ddd; padding: 8px;\">female</td><td style=\"border: 1px solid #ddd; padding: 8px; text-align: right;\">-0.5231</td><td style=\"border: 1px solid #ddd; padding: 8px; text-align: right;\">-17.3%</td><td style=\"border: 1px solid #ddd; padding: 8px; text-align: right;\">-1.1653</td><td style=\"border: 1px solid #ddd; padding: 8px; text-align: right;\">-38.6%</td><td style=\"border: 1px solid #ddd; padding: 8px; text-align: right;\">-1.6883</td><td style=\"border: 1px solid #ddd; padding: 8px; text-align: right;\">-56.0%</td></tr><tr style=\"font-weight: bold; background-color: #f8f9fa;\"><td style=\"border: 1px solid #ddd; padding: 8px;\">C(education_level)</td><td style=\"border: 1px solid #ddd; padding: 8px; text-align: right;\">2.4545</td><td style=\"border: 1px solid #ddd; padding: 8px; text-align: right;\">81.4%</td><td style=\"border: 1px solid #ddd; padding: 8px; text-align: right;\">-3.5599</td><td style=\"border: 1px solid #ddd; padding: 8px; text-align: right;\">-118.1%</td><td style=\"border: 1px solid #ddd; padding: 8px; text-align: right;\">-1.1055</td><td style=\"border: 1px solid #ddd; padding: 8px; text-align: right;\">-36.7%</td></tr><tr><td style=\"border: 1px solid #ddd; padding: 8px; padding-left: 24px; font-style: italic; color: #666;\">C(education_level)[LTHS]</td><td style=\"border: 1px solid #ddd; padding: 8px; text-align: right;\">-1.5272</td><td style=\"border: 1px solid #ddd; padding: 8px; text-align: right;\">-50.6%</td><td style=\"border: 1px solid #ddd; padding: 8px; text-align: right;\">-1.5892</td><td style=\"border: 1px solid #ddd; padding: 8px; text-align: right;\">-52.7%</td><td style=\"border: 1px solid #ddd; padding: 8px; text-align: right;\">-3.1163</td><td style=\"border: 1px solid #ddd; padding: 8px; text-align: right;\">-103.3%</td></tr><tr><td style=\"border: 1px solid #ddd; padding: 8px; padding-left: 24px; font-style: italic; color: #666;\">C(education_level)[advanced_degree]</td><td style=\"border: 1px solid #ddd; padding: 8px; text-align: right;\">0.8993</td><td style=\"border: 1px solid #ddd; padding: 8px; text-align: right;\">29.8%</td><td style=\"border: 1px solid #ddd; padding: 8px; text-align: right;\">-0.4043</td><td style=\"border: 1px solid #ddd; padding: 8px; text-align: right;\">-13.4%</td><td style=\"border: 1px solid #ddd; padding: 8px; text-align: right;\">0.4950</td><td style=\"border: 1px solid #ddd; padding: 8px; text-align: right;\">16.4%</td></tr><tr><td style=\"border: 1px solid #ddd; padding: 8px; padding-left: 24px; font-style: italic; color: #666;\">C(education_level)[college]</td><td style=\"border: 1px solid #ddd; padding: 8px; text-align: right;\">0.8965</td><td style=\"border: 1px solid #ddd; padding: 8px; text-align: right;\">29.7%</td><td style=\"border: 1px solid #ddd; padding: 8px; text-align: right;\">0.2337</td><td style=\"border: 1px solid #ddd; padding: 8px; text-align: right;\">7.8%</td><td style=\"border: 1px solid #ddd; padding: 8px; text-align: right;\">1.1303</td><td style=\"border: 1px solid #ddd; padding: 8px; text-align: right;\">37.5%</td></tr><tr><td style=\"border: 1px solid #ddd; padding: 8px; padding-left: 24px; font-style: italic; color: #666;\">C(education_level)[high_school]</td><td style=\"border: 1px solid #ddd; padding: 8px; text-align: right;\">-0.5832</td><td style=\"border: 1px solid #ddd; padding: 8px; text-align: right;\">-19.3%</td><td style=\"border: 1px solid #ddd; padding: 8px; text-align: right;\">-1.2954</td><td style=\"border: 1px solid #ddd; padding: 8px; text-align: right;\">-43.0%</td><td style=\"border: 1px solid #ddd; padding: 8px; text-align: right;\">-1.8786</td><td style=\"border: 1px solid #ddd; padding: 8px; text-align: right;\">-62.3%</td></tr><tr><td style=\"border: 1px solid #ddd; padding: 8px; padding-left: 24px; font-style: italic; color: #666;\">C(education_level)[some_college]</td><td style=\"border: 1px solid #ddd; padding: 8px; text-align: right;\">2.7690</td><td style=\"border: 1px solid #ddd; padding: 8px; text-align: right;\">91.8%</td><td style=\"border: 1px solid #ddd; padding: 8px; text-align: right;\">-0.5048</td><td style=\"border: 1px solid #ddd; padding: 8px; text-align: right;\">-16.7%</td><td style=\"border: 1px solid #ddd; padding: 8px; text-align: right;\">2.2642</td><td style=\"border: 1px solid #ddd; padding: 8px; text-align: right;\">75.1%</td></tr><tr style=\"font-weight: bold; background-color: #e9ecef; border-top: 2px solid #333;\"><td style=\"border: 1px solid #ddd; padding: 8px;\">total</td><td style=\"border: 1px solid #ddd; padding: 8px; text-align: right;\">0.1822</td><td style=\"border: 1px solid #ddd; padding: 8px; text-align: right;\">6.0%</td><td style=\"border: 1px solid #ddd; padding: 8px; text-align: right;\">2.8333</td><td style=\"border: 1px solid #ddd; padding: 8px; text-align: right;\">94.0%</td><td style=\"border: 1px solid #ddd; padding: 8px; text-align: right;\">3.0156</td><td style=\"border: 1px solid #ddd; padding: 8px; text-align: right;\">100.0%</td></tr></tbody></table>\n",
              "\n",
              "            <div style=\"margin-top: 15px; padding: 10px; background-color: #f8f9fa; border-radius: 4px;\">\n",
              "                <p style=\"margin: 0; font-size: 0.9em; color: #666;\">\n",
              "                    <strong>\ud83d\udca1 For programmatic access:</strong><br>\n",
              "                    \u2022 <code>contributions</code> - aggregated categorical variables<br>\n",
              "                    \u2022 <code>detailed_contributions</code> - individual categories with hierarchy<br>\n",
              "                    \u2022 <code>removal_info</code> - per-group removal impact details\n",
              "                </p>\n",
              "            </div>\n",
              "        </div>\n",
              "        "
            ],
            "text/plain": [
              "OaxacaResults(groups=[0, 1], group_variable='foreign_born')"
            ]
          },
          "execution_count": 10,
          "metadata": {},
          "output_type": "execute_result"
        }
      ],
      "source": [
        "# Display detailed summary - shows rich HTML output in Jupyter\n",
        "twofold_decomposition"
      ]
    },
    {
      "cell_type": "code",
      "execution_count": 11,
      "metadata": {},
      "outputs": [],
      "source": [
        "threefold_decomposition = results.three_fold()"
      ]
    },
    {
      "cell_type": "code",
      "execution_count": null,
      "metadata": {},
      "outputs": [],
      "source": []
    }
  ],
  "metadata": {
    "kernelspec": {
      "display_name": "oaxaca",
      "language": "python",
      "name": "python3"
    },
    "language_info": {
      "codemirror_mode": {
        "name": "ipython",
        "version": 3
      },
      "file_extension": ".py",
      "mimetype": "text/x-python",
      "name": "python",
      "nbconvert_exporter": "python",
      "pygments_lexer": "ipython3",
      "version": "3.12.3"
    }
  },
  "nbformat": 4,
  "nbformat_minor": 4
}
