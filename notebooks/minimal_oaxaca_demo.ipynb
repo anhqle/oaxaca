{
 "cells": [
  {
   "cell_type": "markdown",
   "metadata": {},
   "source": [
    "# Minimal Oaxaca Demo\n",
    "\n",
    "This notebook demonstrates a minimal example of running the Oaxaca-Blinder decomposition and printing the results."
   ]
  },
  {
   "cell_type": "code",
   "execution_count": 1,
   "metadata": {},
   "outputs": [],
   "source": [
    "%load_ext autoreload\n",
    "%autoreload 2\n",
    "import pandas as pd\n",
    "import numpy as np\n",
    "from oaxaca import Oaxaca"
   ]
  },
  {
   "cell_type": "code",
   "execution_count": 2,
   "metadata": {},
   "outputs": [
    {
     "data": {
      "text/html": [
       "<div>\n",
       "<style scoped>\n",
       "    .dataframe tbody tr th:only-of-type {\n",
       "        vertical-align: middle;\n",
       "    }\n",
       "\n",
       "    .dataframe tbody tr th {\n",
       "        vertical-align: top;\n",
       "    }\n",
       "\n",
       "    .dataframe thead th {\n",
       "        text-align: right;\n",
       "    }\n",
       "</style>\n",
       "<table border=\"1\" class=\"dataframe\">\n",
       "  <thead>\n",
       "    <tr style=\"text-align: right;\">\n",
       "      <th></th>\n",
       "      <th>age</th>\n",
       "      <th>female</th>\n",
       "      <th>foreign_born</th>\n",
       "      <th>LTHS</th>\n",
       "      <th>high_school</th>\n",
       "      <th>some_college</th>\n",
       "      <th>college</th>\n",
       "      <th>advanced_degree</th>\n",
       "      <th>education_level</th>\n",
       "      <th>ln_real_wage</th>\n",
       "    </tr>\n",
       "  </thead>\n",
       "  <tbody>\n",
       "    <tr>\n",
       "      <th>0</th>\n",
       "      <td>52</td>\n",
       "      <td>0</td>\n",
       "      <td>1</td>\n",
       "      <td>0</td>\n",
       "      <td>1</td>\n",
       "      <td>0</td>\n",
       "      <td>0</td>\n",
       "      <td>0</td>\n",
       "      <td>high_school</td>\n",
       "      <td>2.140066</td>\n",
       "    </tr>\n",
       "    <tr>\n",
       "      <th>1</th>\n",
       "      <td>46</td>\n",
       "      <td>1</td>\n",
       "      <td>1</td>\n",
       "      <td>0</td>\n",
       "      <td>1</td>\n",
       "      <td>0</td>\n",
       "      <td>0</td>\n",
       "      <td>0</td>\n",
       "      <td>high_school</td>\n",
       "      <td>NaN</td>\n",
       "    </tr>\n",
       "    <tr>\n",
       "      <th>2</th>\n",
       "      <td>31</td>\n",
       "      <td>1</td>\n",
       "      <td>1</td>\n",
       "      <td>0</td>\n",
       "      <td>1</td>\n",
       "      <td>0</td>\n",
       "      <td>0</td>\n",
       "      <td>0</td>\n",
       "      <td>high_school</td>\n",
       "      <td>2.499795</td>\n",
       "    </tr>\n",
       "    <tr>\n",
       "      <th>3</th>\n",
       "      <td>35</td>\n",
       "      <td>0</td>\n",
       "      <td>1</td>\n",
       "      <td>0</td>\n",
       "      <td>1</td>\n",
       "      <td>0</td>\n",
       "      <td>0</td>\n",
       "      <td>0</td>\n",
       "      <td>high_school</td>\n",
       "      <td>2.708050</td>\n",
       "    </tr>\n",
       "    <tr>\n",
       "      <th>4</th>\n",
       "      <td>19</td>\n",
       "      <td>0</td>\n",
       "      <td>0</td>\n",
       "      <td>0</td>\n",
       "      <td>1</td>\n",
       "      <td>0</td>\n",
       "      <td>0</td>\n",
       "      <td>0</td>\n",
       "      <td>high_school</td>\n",
       "      <td>2.079442</td>\n",
       "    </tr>\n",
       "  </tbody>\n",
       "</table>\n",
       "</div>"
      ],
      "text/plain": [
       "   age  female  foreign_born  LTHS  high_school  some_college  college  \\\n",
       "0   52       0             1     0            1             0        0   \n",
       "1   46       1             1     0            1             0        0   \n",
       "2   31       1             1     0            1             0        0   \n",
       "3   35       0             1     0            1             0        0   \n",
       "4   19       0             0     0            1             0        0   \n",
       "\n",
       "   advanced_degree education_level  ln_real_wage  \n",
       "0                0     high_school      2.140066  \n",
       "1                0     high_school           NaN  \n",
       "2                0     high_school      2.499795  \n",
       "3                0     high_school      2.708050  \n",
       "4                0     high_school      2.079442  "
      ]
     },
     "execution_count": 2,
     "metadata": {},
     "output_type": "execute_result"
    }
   ],
   "source": [
    "# Load sample data\n",
    "df = pd.read_csv(\"sample_data.csv\")\n",
    "df.head()"
   ]
  },
  {
   "cell_type": "code",
   "execution_count": 3,
   "metadata": {},
   "outputs": [
    {
     "name": "stdout",
     "output_type": "stream",
     "text": [
      "Model fitted successfully!\n",
      "Groups: [0, 1]\n"
     ]
    }
   ],
   "source": [
    "# Initialize and fit the Oaxaca model\n",
    "oaxaca_model = Oaxaca()\n",
    "\n",
    "# Fit the model using a simple formula\n",
    "results = oaxaca_model.fit(\n",
    "    formula=\"exp(ln_real_wage) ~ -1 + age + female + C(education_level)\",\n",
    "    data=df,\n",
    "    group_variable=\"foreign_born\"\n",
    ")\n",
    "\n",
    "print(\"Model fitted successfully!\")\n",
    "print(f\"Groups: {results.groups_}\")"
   ]
  },
  {
   "cell_type": "code",
   "execution_count": null,
   "metadata": {},
   "outputs": [],
   "source": [
    "# Run two-fold decomposition\n",
    "twofold_decomposition = results.two_fold()"
   ]
  },
  {
   "cell_type": "code",
   "execution_count": null,
   "metadata": {},
   "outputs": [
    {
     "name": "stdout",
     "output_type": "stream",
     "text": [
      "Oaxaca-Blinder Decomposition Results\n",
      "==================================================\n",
      "Group Variable: foreign_born\n",
      "Groups: 0 (Group 0) vs 1 (Group 1)\n",
      "OLS Regression Results by Group\n",
      "============================================================\n",
      "\n",
      "Group: 0\n",
      "----------------------------------------\n",
      "Number of observations: 287\n",
      "R-squared: 0.3268\n",
      "Mean of dependent variable: 17.5828\n",
      "Std of dependent variable: 12.0486\n",
      "\n",
      "Coefficients:\n",
      "Variable                                      Coeff    Std Err        t    P>|t|\n",
      "-------------------------------------------------------------\n",
      "age                                          0.2640     0.0468    5.637    0.000\n",
      "female                                      -6.1497     1.1929   -5.155    0.000\n",
      "C(education_level)[LTHS]                     5.6689     2.3922    2.370    0.018\n",
      "C(education_level)[advanced_degree]         23.6506     2.9415    8.040    0.000\n",
      "C(education_level)[college]                 19.0245     2.4208    7.859    0.000\n",
      "C(education_level)[high_school]              8.5831     1.9820    4.331    0.000\n",
      "C(education_level)[some_college]            10.9798     1.9020    5.773    0.000\n",
      "\n",
      "Group: 1\n",
      "----------------------------------------\n",
      "Number of observations: 379\n",
      "R-squared: 0.3195\n",
      "Mean of dependent variable: 14.5672\n",
      "Std of dependent variable: 8.9085\n",
      "\n",
      "Coefficients:\n",
      "Variable                                      Coeff    Std Err        t    P>|t|\n",
      "-------------------------------------------------------------\n",
      "age                                          0.0780     0.0310    2.519    0.012\n",
      "female                                      -3.2055     0.7868   -4.074    0.000\n",
      "C(education_level)[LTHS]                     9.7661     1.4673    6.656    0.000\n",
      "C(education_level)[advanced_degree]         36.4205     2.4641   14.781    0.000\n",
      "C(education_level)[college]                 16.1671     1.9121    8.455    0.000\n",
      "C(education_level)[high_school]             12.1407     1.4121    8.598    0.000\n",
      "C(education_level)[some_college]            14.7311     1.7540    8.399    0.000\n",
      "\n",
      "============================================================\n",
      "Total Difference: -3.0156\n",
      "Explained (Endowments): -0.8994\n",
      "Unexplained (Coefficients): -2.1162\n",
      "Weights: [0.5, 0.5]\n",
      "\n",
      "Detailed Variable Contributions:\n",
      "------------------------------------------------------------------------------------------------------------------------\n",
      "Variable                                  Explained   Expl %  Unexplained  Unexp %      Total    Tot %\n",
      "------------------------------------------------------------------------------------------------------\n",
      "age                                          1.1330   126.0%      -6.9423  -328.1%    -5.8094  -192.6%\n",
      "female                                       0.3979    44.2%       1.2905    61.0%     1.6883    56.0%\n",
      "C(education_level)                          -2.4302  -270.2%       3.5357   167.1%     1.1055    36.7%\n",
      "  C(education_level)[LTHS]                   2.0791   231.2%       1.0373    49.0%     3.1163   103.3%\n",
      "  C(education_level)[advanced_degree]       -1.1421  -127.0%       0.6471    30.6%    -0.4950   -16.4%\n",
      "  C(education_level)[college]               -0.8292   -92.2%      -0.3010   -14.2%    -1.1303   -37.5%\n",
      "  C(education_level)[high_school]            0.7041    78.3%       1.1745    55.5%     1.8786    62.3%\n",
      "  C(education_level)[some_college]          -3.2421  -360.5%       0.9778    46.2%    -2.2642   -75.1%\n",
      "Total                                       -0.8994   100.0%      -2.1162   100.0%    -3.0156   100.0%\n"
     ]
    }
   ],
   "source": [
    "# Display detailed summary - shows rich HTML output in Jupyter\n",
    "twofold_decomposition"
   ]
  },
  {
   "cell_type": "code",
   "execution_count": 7,
   "metadata": {},
   "outputs": [
    {
     "data": {
      "text/plain": [
       "np.True_"
      ]
     },
     "execution_count": 7,
     "metadata": {},
     "output_type": "execute_result"
    }
   ],
   "source": [
    "np.isclose(1.1330 + 0.3979 + -2.4302, -0.8994, atol=0.0001)"
   ]
  },
  {
   "cell_type": "code",
   "execution_count": null,
   "metadata": {},
   "outputs": [],
   "source": [
    "threefold_decomposition = results.three_fold()"
   ]
  }
 ],
 "metadata": {
  "kernelspec": {
   "display_name": ".venv",
   "language": "python",
   "name": "python3"
  },
  "language_info": {
   "codemirror_mode": {
    "name": "ipython",
    "version": 3
   },
   "file_extension": ".py",
   "mimetype": "text/x-python",
   "name": "python",
   "nbconvert_exporter": "python",
   "pygments_lexer": "ipython3",
   "version": "3.10.18"
  }
 },
 "nbformat": 4,
 "nbformat_minor": 4
}
